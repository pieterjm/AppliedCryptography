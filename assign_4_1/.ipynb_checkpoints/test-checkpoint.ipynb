{
 "cells": [
  {
   "cell_type": "code",
   "execution_count": 7,
   "id": "20bbb313",
   "metadata": {},
   "outputs": [],
   "source": [
    "import math\n",
    "import random\n",
    "\n",
    "# returns true if a number (p) is a prime\n",
    "def isPrime(p):\n",
    "    if p in [ 1, 2 ]: return True\n",
    "    for d in range(2, int(math.ceil(math.sqrt(p))+1)):\n",
    "        if p % d == 0: return False\n",
    "    return True\n",
    "\n",
    "# genereer een priemgetal van lengte n bits\n",
    "def genPrime(n):\n",
    "    while True:\n",
    "        p = random.randint((2**(n-1)), (2**n)-1)\n",
    "        if isPrime(p): return p\n",
    "    return # Not reached\n",
    "\n",
    "# genereer een priemgetal met lengte van n bits, en kleiner dan p\n",
    "def genSecret(p, n):\n",
    "    while True:\n",
    "        g = genPrime(n)\n",
    "        if g < p:\n",
    "            return g    "
   ]
  },
  {
   "cell_type": "code",
   "execution_count": 9,
   "id": "028316e7",
   "metadata": {},
   "outputs": [],
   "source": [
    "nbits = 32\n",
    "shared_p = genPrime(nbits)\n",
    "shared_g = genSecret(shared_p, nbits)\n",
    "alice_a = random.randint(1,shared_p)\n",
    "shared_A = pow(shared_g,alice_a,shared_p)\n"
   ]
  },
  {
   "cell_type": "code",
   "execution_count": 11,
   "id": "6757e482",
   "metadata": {},
   "outputs": [],
   "source": [
    "bob_b = random.randint(1,shared_p)\n",
    "shared_B = pow(shared_g,bob_b,shared_p)"
   ]
  },
  {
   "cell_type": "code",
   "execution_count": 12,
   "id": "c2fb841d",
   "metadata": {},
   "outputs": [],
   "source": [
    "alice_S = pow(shared_B,alice_a,shared_p)\n",
    "bob_S = pow(shared_A,bob_b,shared_p)"
   ]
  },
  {
   "cell_type": "code",
   "execution_count": 13,
   "id": "2e2e5197",
   "metadata": {},
   "outputs": [
    {
     "data": {
      "text/plain": [
       "True"
      ]
     },
     "execution_count": 13,
     "metadata": {},
     "output_type": "execute_result"
    }
   ],
   "source": [
    "alice_S == bob_S"
   ]
  },
  {
   "cell_type": "code",
   "execution_count": null,
   "id": "5e05db2c",
   "metadata": {},
   "outputs": [],
   "source": []
  }
 ],
 "metadata": {
  "kernelspec": {
   "display_name": "Python 3 (ipykernel)",
   "language": "python",
   "name": "python3"
  },
  "language_info": {
   "codemirror_mode": {
    "name": "ipython",
    "version": 3
   },
   "file_extension": ".py",
   "mimetype": "text/x-python",
   "name": "python",
   "nbconvert_exporter": "python",
   "pygments_lexer": "ipython3",
   "version": "3.10.6"
  }
 },
 "nbformat": 4,
 "nbformat_minor": 5
}
