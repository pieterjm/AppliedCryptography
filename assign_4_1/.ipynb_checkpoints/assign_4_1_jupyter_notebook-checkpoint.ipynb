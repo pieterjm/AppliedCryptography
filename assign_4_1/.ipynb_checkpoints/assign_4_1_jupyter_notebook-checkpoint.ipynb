{
 "cells": [
  {
   "cell_type": "markdown",
   "id": "aeede633",
   "metadata": {},
   "source": [
    "# Assignment 4.1\n",
    "\n",
    "The goal of this assignment is to implement the base Diffie-Hellman key-exchange algorithm. In this case Alice and Bob are going to exchange a key.\n",
    "\n",
    "A good explanation of the DH exchange process, including the calculations is on the Wikipedia page (https://en.wikipedia.org/wiki/Diffie%E2%80%93Hellman_key_exchange)"
   ]
  },
  {
   "cell_type": "code",
   "execution_count": 8,
   "id": "ddae6d10",
   "metadata": {},
   "outputs": [],
   "source": [
    "# utility functions for this assignment\n",
    "import math\n",
    "import random\n",
    "\n",
    "# returns true if a number (p) is a prime\n",
    "def isPrime(p):\n",
    "    if p in [ 1, 2 ]: return True\n",
    "    for d in range(2, int(math.ceil(math.sqrt(p))+1)):\n",
    "        if p % d == 0: return False\n",
    "    return True\n",
    "\n",
    "# genereer een priemgetal van lengte n bits\n",
    "def genPrime(n):\n",
    "    while True:\n",
    "        p = random.randint((2**(n-1)), (2**n)-1)\n",
    "        if isPrime(p): return p\n",
    "    return # Not reached\n",
    "\n",
    "# genereer een priemgetal met lengte van n bits, en kleiner dan p\n",
    "def genSecret(p, n):\n",
    "    while True:\n",
    "        g = genPrime(n)\n",
    "        if g < p:\n",
    "            return g    "
   ]
  },
  {
   "cell_type": "markdown",
   "id": "c10e49d9",
   "metadata": {},
   "source": [
    "# Alice \n",
    "Alice creates several parameters p, g and a. p and g are shared with Bob and thus have the prefix 'shared_'. a is Alice's secret and has the prefix 'alice_'. From a, g and p, Alice generates A, which is also shared with Bob."
   ]
  },
  {
   "cell_type": "code",
   "execution_count": 9,
   "id": "553b0b48",
   "metadata": {},
   "outputs": [],
   "source": [
    "nbits = 32\n",
    "shared_p = genPrime(nbits)\n",
    "shared_g = genSecret(shared_p, nbits)\n",
    "alice_a = random.randint(1,shared_p)\n",
    "shared_A = pow(shared_g,alice_a,shared_p)\n"
   ]
  },
  {
   "cell_type": "markdown",
   "id": "3c8e0439",
   "metadata": {},
   "source": [
    "# Bob\n",
    "Bob generates his own secret 'bob_b' from 'shared_p', and generates shared_B from p,g and b. "
   ]
  },
  {
   "cell_type": "code",
   "execution_count": 10,
   "id": "7172e7a1",
   "metadata": {},
   "outputs": [],
   "source": [
    "bob_b = random.randint(1,shared_p)\n",
    "shared_B = pow(shared_g,bob_b,shared_p)"
   ]
  },
  {
   "cell_type": "markdown",
   "id": "5c78624c",
   "metadata": {},
   "source": [
    "# The secret \n",
    "When 'shared_B' and 'shared_A' are exchanged between Alice and Bob, they both can apply their own secret 'alice_a' and 'bob_b' to arrive at a secret that they only know. "
   ]
  },
  {
   "cell_type": "code",
   "execution_count": 11,
   "id": "1b0445aa",
   "metadata": {},
   "outputs": [],
   "source": [
    "alice_S = pow(shared_B,alice_a,shared_p)\n",
    "bob_S = pow(shared_A,bob_b,shared_p)"
   ]
  },
  {
   "cell_type": "markdown",
   "id": "906af690",
   "metadata": {},
   "source": [
    "# Verification\n",
    "To confirm that both secrets are the same, we compare them. The output should be 'True'"
   ]
  },
  {
   "cell_type": "code",
   "execution_count": 12,
   "id": "0e3e447c",
   "metadata": {},
   "outputs": [
    {
     "data": {
      "text/plain": [
       "True"
      ]
     },
     "execution_count": 12,
     "metadata": {},
     "output_type": "execute_result"
    }
   ],
   "source": [
    "alice_S == bob_S"
   ]
  },
  {
   "cell_type": "code",
   "execution_count": null,
   "id": "b01a3a74",
   "metadata": {},
   "outputs": [],
   "source": []
  }
 ],
 "metadata": {
  "kernelspec": {
   "display_name": "Python 3 (ipykernel)",
   "language": "python",
   "name": "python3"
  },
  "language_info": {
   "codemirror_mode": {
    "name": "ipython",
    "version": 3
   },
   "file_extension": ".py",
   "mimetype": "text/x-python",
   "name": "python",
   "nbconvert_exporter": "python",
   "pygments_lexer": "ipython3",
   "version": "3.10.6"
  }
 },
 "nbformat": 4,
 "nbformat_minor": 5
}
